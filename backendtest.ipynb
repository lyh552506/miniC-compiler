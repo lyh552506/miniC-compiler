{
 "cells": [
  {
   "cell_type": "code",
   "execution_count": 155,
   "metadata": {},
   "outputs": [],
   "source": [
    "import os\n",
    "import sys\n",
    "import subprocess\n",
    "from contextlib import contextmanager\n",
    "import signal\n",
    "import filecmp\n",
    "import difflib\n",
    "import shutil\n",
    "import time\n",
    "\n",
    "# Configurations\n",
    "toolchain_path = \"/home/r1c0/riscv/bin/riscv64-unknown-linux-gnu-\"\n",
    "compiler_path = \"./build/SYSY-compiler\"\n",
    "test_folder=\"./testcases\"\n",
    "sylib_path = \"./RISCVLib/sylib.c\"\n",
    "# xxx.sy 会被复制到./function_test/test.c\n",
    "temp_path = \"./function_test\"\n",
    "pass_args=[\n",
    "                \"-S\",\n",
    "                \"-o\",\n",
    "                \"./function_test/test.s\",\n",
    "                \"./function_test/test.c\",\n",
    "                \"--O1\"\n",
    "            ]\n",
    "Tolerance = True\n",
    "\n",
    "CE_list = [] # Compile Error\n",
    "AE_list = [] # Assembler Error\n",
    "LE_list = [] # Linker Error\n",
    "Time_Out = []\n",
    "WA_list = []\n",
    "AC_list = []\n",
    "TLE_list = []\n",
    "BadTest_list = []\n",
    "\n",
    "Prob_list = []\n",
    "test_list = []"
   ]
  },
  {
   "cell_type": "code",
   "execution_count": 156,
   "metadata": {},
   "outputs": [],
   "source": [
    "# grab all the testcases\n",
    "# find files recursively\n",
    "def GrabFile():\n",
    "    for root, dirs, files in os.walk(test_folder):\n",
    "        for file in files:\n",
    "            if file.endswith(\".sy\"):\n",
    "                test_list.append(os.path.join(root, file))"
   ]
  },
  {
   "cell_type": "code",
   "execution_count": 157,
   "metadata": {},
   "outputs": [],
   "source": [
    "def CopyFileToTemp(test):\n",
    "    # No Bad Test Now\n",
    "    shutil.copy(test,temp_path+\"/test.c\")\n",
    "    if os.path.exists(test[:-2]+\"in\"):\n",
    "        shutil.copy(test[:-2]+\"in\",temp_path+\"/test.in\")\n",
    "    if os.path.exists(test[:-2]+\"out\"):\n",
    "        shutil.copy(test[:-2]+\"out\",temp_path+\"/test.out\")"
   ]
  },
  {
   "cell_type": "code",
   "execution_count": 158,
   "metadata": {},
   "outputs": [],
   "source": [
    "def TryCompile(original_case_path):\n",
    "    compile_args=[compiler_path]\n",
    "    for arg in pass_args:\n",
    "        compile_args.append(arg)\n",
    "    try:\n",
    "        ret = subprocess.run(compile_args,timeout=60)\n",
    "    except subprocess.TimeoutExpired:\n",
    "        Time_Out.append(original_case_path)\n",
    "        print(\"Timeout: \"+original_case_path)\n",
    "        return False\n",
    "    if ret.returncode != 0:\n",
    "        CE_list.append(original_case_path)\n",
    "        print(\"CE: \"+original_case_path)\n",
    "        return False\n",
    "    return True"
   ]
  },
  {
   "cell_type": "code",
   "execution_count": 159,
   "metadata": {},
   "outputs": [],
   "source": [
    "def TryAssemble(original_case_path):\n",
    "    try:\n",
    "        ret = subprocess.run([toolchain_path+\"as\", temp_path + \"/test.s\", \"-o\", temp_path + \"/test.o\"],timeout=10)\n",
    "    except subprocess.TimeoutExpired:\n",
    "        print(\"IMPOSSIBLE, AS TIMEOUT\")\n",
    "        exit(-1)\n",
    "    if ret.returncode != 0:\n",
    "        AE_list.append(original_case_path)\n",
    "        print(\"AE: \"+original_case_path)\n",
    "        return False\n",
    "    return True"
   ]
  },
  {
   "cell_type": "code",
   "execution_count": 160,
   "metadata": {},
   "outputs": [],
   "source": [
    "def TryLink(orginal_case_path):\n",
    "    try:\n",
    "        ret = subprocess.run([toolchain_path+\"gcc\", temp_path + \"/test.o\", temp_path+\"/sylib.o\", \"-o\", temp_path + \"/test\"],timeout=10)\n",
    "    except subprocess.TimeoutExpired:\n",
    "        print(\"IMPOSSIBLE, LD TIMEOUT\")\n",
    "        exit(-1)\n",
    "    if ret.returncode != 0:\n",
    "        LE_list.append(orginal_case_path)\n",
    "        print(\"LE: \"+orginal_case_path)\n",
    "        return False\n",
    "    return True"
   ]
  },
  {
   "cell_type": "code",
   "execution_count": 161,
   "metadata": {},
   "outputs": [],
   "source": [
    "def RunTest(original_case_path, test_args):\n",
    "    start_time=time.time()\n",
    "    try:\n",
    "        if not os.path.exists(temp_path+\"/test.in\"):\n",
    "            ret = subprocess.run(test_args,stdout=subprocess.PIPE,stderr=subprocess.PIPE,timeout=30)\n",
    "        else:\n",
    "            ret = subprocess.run(test_args,stdin=open(temp_path+\"/test.in\"),stdout=subprocess.PIPE,stderr=subprocess.PIPE,timeout=30)\n",
    "    except subprocess.TimeoutExpired:\n",
    "        print(\"TIMEOUT ERROR: \"+original_case_path)\n",
    "        TLE_list.append(original_case_path)\n",
    "        return False\n",
    "    end_time=time.time()\n",
    "    \n",
    "    elasp_time=end_time-start_time\n",
    "    \n",
    "    if not os.path.exists(temp_path + \"/test.out\"):\n",
    "        BadTest_list.append(original_case_path)\n",
    "        return False\n",
    "    else:\n",
    "        out_file=temp_path + \"/test.out\"\n",
    "    \n",
    "    dump_str=ret.stdout.decode()\n",
    "    # dump_str1 = ret1.stdout.decode()\n",
    "    # remove whitesspace in the end\n",
    "    # dump_str=dump_str.rstrip()\n",
    "    # if dump_str1 and not dump_str1.endswith('\\n'):\n",
    "    #     dump_str1 += \"\\n\"\n",
    "    # if not dump_str1.endswith(''):\n",
    "    #     print(\"RISCV Test Error\")\n",
    "    if dump_str and not dump_str.endswith('\\n'):\n",
    "        dump_str += \"\\n\"\n",
    "    dump_str += str(ret.returncode) + \"\\n\"\n",
    "    std_output=open(out_file).read()\n",
    "    diff = difflib.unified_diff(dump_str.splitlines(), std_output.splitlines(), lineterm='')\n",
    "    if(len(list(diff))!=0):\n",
    "        print(\"Wrong Answer: \"+original_case_path)\n",
    "        WA_list.append(original_case_path)\n",
    "        return False\n",
    "    \n",
    "    print(f\"{elasp_time:.2f}---\",end=\"\")  # Print runtime information\n",
    "    return True\n",
    "\n",
    "def LLI_TEST(original_case_path):\n",
    "    print(\"LLI\\t\",end=\":\")\n",
    "    if RunTest(original_case_path,[\"/home/r1c0/llvm-project/build/bin/lli\",temp_path + \"/test.c.ll\"]):\n",
    "        print(\"Pass:\"+original_case_path)\n",
    "        return True\n",
    "    else:\n",
    "        return False\n",
    "\n",
    "def QEMU_TEST(original_case_path):\n",
    "    print(\"QEMU\\t\",end=\":\")\n",
    "    if RunTest(original_case_path,[\"qemu-riscv64\",temp_path + \"/test\"]):\n",
    "        print(\"Pass:\"+original_case_path)\n",
    "        return True\n",
    "    else:\n",
    "        return False"
   ]
  },
  {
   "cell_type": "code",
   "execution_count": 162,
   "metadata": {},
   "outputs": [],
   "source": [
    "def Tolerant(FuncList,original_file_name):\n",
    "    for func in FuncList:\n",
    "        ret = func(original_file_name)\n",
    "        if ret == False and Tolerance == False:\n",
    "            print(\"No Tolerence, exit\")\n",
    "            sys.exit(-1)\n",
    "        if ret == False:\n",
    "            return False\n",
    "    return True"
   ]
  },
  {
   "cell_type": "code",
   "execution_count": 163,
   "metadata": {},
   "outputs": [],
   "source": [
    "def TestSingleCase(test):\n",
    "    CopyFileToTemp(test)\n",
    "    if Tolerant([TryCompile,TryAssemble,TryLink,QEMU_TEST],test)==False:\n",
    "        return\n",
    "    AC_list.append(test)"
   ]
  },
  {
   "cell_type": "code",
   "execution_count": 164,
   "metadata": {},
   "outputs": [
    {
     "data": {
      "text/plain": [
       "CompletedProcess(args=['/home/r1c0/riscv/bin/riscv64-unknown-linux-gnu-gcc', './RISCVLib/sylib.c', '-c', '-o', './function_test/sylib.o'], returncode=0)"
      ]
     },
     "execution_count": 164,
     "metadata": {},
     "output_type": "execute_result"
    }
   ],
   "source": [
    "# Compile the sylib.c\n",
    "subprocess.run([toolchain_path+\"gcc\", sylib_path, \"-c\", \"-o\", temp_path+\"/sylib.o\"])"
   ]
  },
  {
   "cell_type": "code",
   "execution_count": 165,
   "metadata": {},
   "outputs": [
    {
     "name": "stdout",
     "output_type": "stream",
     "text": [
      "QEMU\t:2.86---Pass:./testcases/performance/01_mm1.sy\n"
     ]
    }
   ],
   "source": [
    "# if len(Prob_list) == 0:\n",
    "#     GrabFile()\n",
    "# else:\n",
    "#     test_list=Prob_list\n",
    "#     Prob_list.clear()\n",
    "\n",
    "test_list=['./testcases/performance/01_mm1.sy']\n",
    "    \n",
    "for test in test_list:\n",
    "    if test.endswith(\".sy\"):\n",
    "        TestSingleCase(test)"
   ]
  },
  {
   "cell_type": "code",
   "execution_count": 166,
   "metadata": {},
   "outputs": [
    {
     "name": "stdout",
     "output_type": "stream",
     "text": [
      "1\n",
      "0\n",
      "0\n",
      "0\n",
      "0\n",
      "0\n",
      "0\n",
      "0\n"
     ]
    }
   ],
   "source": [
    "# print all wrong tests and mv one of them to temp_folder for debugging\n",
    "print(len(AC_list))\n",
    "print(len(WA_list))\n",
    "print(len(CE_list))\n",
    "print(len(AE_list))\n",
    "print(len(LE_list))\n",
    "print(len(Time_Out))\n",
    "print(len(TLE_list))\n",
    "print(len(BadTest_list))"
   ]
  },
  {
   "cell_type": "code",
   "execution_count": 167,
   "metadata": {},
   "outputs": [
    {
     "name": "stdout",
     "output_type": "stream",
     "text": [
      "[]\n",
      "[]\n",
      "[]\n",
      "[]\n"
     ]
    }
   ],
   "source": [
    "def MV2WorkSpace(CasesList,k):\n",
    "    case = CasesList[k]\n",
    "    CopyFileToTemp(case)\n",
    "    print(case)\n",
    "    return\n",
    "        \n",
    "# MV2WorkSpace(TLE_list,0)\n",
    "# TLE_list=['./testcases/h_performance/h-2-03.sy', './testcases/h_performance/h-3-01.sy', './testcases/h_performance/h-2-02.sy', './testcases/h_performance/h-3-03.sy', './testcases/h_performance/h-2-01.sy', './testcases/h_performance/h-3-02.sy', './testcases/performance/gameoflife-gosper.sy', './testcases/performance/if-combine1.sy', './testcases/performance/if-combine3.sy', './testcases/performance/matmul2.sy', './testcases/performance/if-combine2.sy', './testcases/performance/matmul3.sy', './testcases/performance/large_loop_array_1.sy', './testcases/performance/gameoflife-p61glidergun.sy', './testcases/performance/large_loop_array_2.sy', './testcases/performance/recursive_call_1.sy', './testcases/performance/large_loop_array_3.sy']\n",
    "\n",
    "# MV2WorkSpace(TLE_list,0)\n",
    "\n",
    "print(WA_list)\n",
    "print(CE_list)\n",
    "print(Time_Out)\n",
    "print(TLE_list)"
   ]
  }
 ],
 "metadata": {
  "kernelspec": {
   "display_name": "Python 3",
   "language": "python",
   "name": "python3"
  },
  "language_info": {
   "codemirror_mode": {
    "name": "ipython",
    "version": 3
   },
   "file_extension": ".py",
   "mimetype": "text/x-python",
   "name": "python",
   "nbconvert_exporter": "python",
   "pygments_lexer": "ipython3",
   "version": "3.9.18"
  }
 },
 "nbformat": 4,
 "nbformat_minor": 2
}
