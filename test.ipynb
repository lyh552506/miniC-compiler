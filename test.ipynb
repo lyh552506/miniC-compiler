{
 "cells": [
  {
   "cell_type": "code",
   "execution_count": 1,
   "metadata": {},
   "outputs": [
    {
     "name": "stderr",
     "output_type": "stream",
     "text": [
      "Find a Parallelable Loop: .186\n",
      "Find a Parallelable Loop: .98wloop.31.35\n",
      "SYSY-compiler: /home/lyh_irie/miniC-compiler/backend/RISCVMIR.cpp:209: void RISCVBasicBlock::replace_succ(RISCVBasicBlock*, RISCVBasicBlock*): Assertion `0&&\"IMPOSSIBLE\"' failed.\n",
      "Find a Parallelable Loop: .300_preheader\n",
      "Find a Parallelable Loop: .298_preheader\n"
     ]
    },
    {
     "name": "stdout",
     "output_type": "stream",
     "text": [
      "Compiler Error：./testcases/performance/large_loop_array_3.sy\n"
     ]
    },
    {
     "name": "stderr",
     "output_type": "stream",
     "text": [
      "Find a Parallelable Loop: .169wloop.63.66\n",
      "Find a Parallelable Loop: .235wloop.85.88\n"
     ]
    },
    {
     "name": "stdout",
     "output_type": "stream",
     "text": [
      "No TOTAL time found in stderr_output.\n",
      "Wrong Answer\n",
      "./testcases/performance/matmul1.sy\n"
     ]
    },
    {
     "name": "stderr",
     "output_type": "stream",
     "text": [
      "Find a Parallelable Loop: .206_preheader\n"
     ]
    },
    {
     "name": "stdout",
     "output_type": "stream",
     "text": [
      "Wrong Answer\n",
      "./testcases/performance/sl1.sy\n"
     ]
    },
    {
     "name": "stderr",
     "output_type": "stream",
     "text": [
      "Find a Parallelable Loop: .1092\n",
      "Find a Parallelable Loop: .1308\n"
     ]
    },
    {
     "name": "stdout",
     "output_type": "stream",
     "text": [
      "No TOTAL time found in stderr_output.\n",
      "Wrong Answer\n",
      "./testcases/performance/if-combine3.sy\n"
     ]
    },
    {
     "name": "stderr",
     "output_type": "stream",
     "text": [
      "Find a Parallelable Loop: .235\n",
      "Find a Parallelable Loop: .296\n",
      "Find a Parallelable Loop: .283\n",
      "Find a Parallelable Loop: .222\n"
     ]
    },
    {
     "name": "stdout",
     "output_type": "stream",
     "text": [
      "No TOTAL time found in stderr_output.\n",
      "Wrong Answer\n",
      "./testcases/performance/04_spmv3.sy\n"
     ]
    },
    {
     "name": "stderr",
     "output_type": "stream",
     "text": [
      "Find a Parallelable Loop: .235\n",
      "Find a Parallelable Loop: .296\n",
      "Find a Parallelable Loop: .283\n",
      "Find a Parallelable Loop: .222\n"
     ]
    },
    {
     "name": "stdout",
     "output_type": "stream",
     "text": [
      "No TOTAL time found in stderr_output.\n",
      "Wrong Answer\n",
      "./testcases/performance/04_spmv1.sy\n"
     ]
    },
    {
     "name": "stderr",
     "output_type": "stream",
     "text": [
      "Find a Parallelable Loop: .356wloop.95.98\n"
     ]
    },
    {
     "name": "stdout",
     "output_type": "stream",
     "text": [
      "No TOTAL time found in stderr_output.\n",
      "Wrong Answer\n",
      "./testcases/performance/03_sort2.sy\n"
     ]
    },
    {
     "name": "stderr",
     "output_type": "stream",
     "text": [
      "Find a Parallelable Loop: .244wloop.78.81\n",
      "Find a Parallelable Loop: .433_preheader\n",
      "Find a Parallelable Loop: .424_preheader\n",
      "Find a Parallelable Loop: .429_preheader\n",
      "Find a Parallelable Loop: .431_preheader\n"
     ]
    },
    {
     "name": "stdout",
     "output_type": "stream",
     "text": [
      "No TOTAL time found in stderr_output.\n",
      "Wrong Answer\n",
      "./testcases/performance/01_mm2.sy\n"
     ]
    },
    {
     "name": "stderr",
     "output_type": "stream",
     "text": [
      "Find a Parallelable Loop: .239wloop.86.89\n",
      "Find a Parallelable Loop: .153wloop.42.45\n",
      "Find a Parallelable Loop: .115wloop.30.33\n"
     ]
    },
    {
     "name": "stdout",
     "output_type": "stream",
     "text": [
      "No TOTAL time found in stderr_output.\n",
      "Wrong Answer\n",
      "./testcases/performance/transpose0.sy\n"
     ]
    },
    {
     "name": "stderr",
     "output_type": "stream",
     "text": [
      "Find a Parallelable Loop: .628_preheader\n",
      "Find a Parallelable Loop: .624_preheader\n",
      "Find a Parallelable Loop: .445\n",
      "SYSY-compiler: /home/lyh_irie/miniC-compiler/backend/RISCVISel.cpp:72: virtual bool RISCVISel::run(Function*): Assertion `terminator.trueblock==succ||terminator.falseblock==succ' failed.\n"
     ]
    },
    {
     "name": "stdout",
     "output_type": "stream",
     "text": [
      "Compiler Error：./testcases/performance/gameoflife-p61glidergun.sy\n",
      "Wrong Answer\n",
      "./testcases/performance/fft0.sy\n"
     ]
    },
    {
     "name": "stderr",
     "output_type": "stream",
     "text": [
      "Find a Parallelable Loop: .239wloop.86.89\n",
      "Find a Parallelable Loop: .239wloop.86.89\n",
      "Find a Parallelable Loop: .206_preheader\n"
     ]
    },
    {
     "name": "stdout",
     "output_type": "stream",
     "text": [
      "Wrong Answer\n",
      "./testcases/performance/sl3.sy\n"
     ]
    },
    {
     "name": "stderr",
     "output_type": "stream",
     "text": [
      "Find a Parallelable Loop: .186\n",
      "Find a Parallelable Loop: .98wloop.31.35\n",
      "SYSY-compiler: /home/lyh_irie/miniC-compiler/backend/RISCVMIR.cpp:209: void RISCVBasicBlock::replace_succ(RISCVBasicBlock*, RISCVBasicBlock*): Assertion `0&&\"IMPOSSIBLE\"' failed.\n",
      "Find a Parallelable Loop: .300_preheader\n",
      "Find a Parallelable Loop: .298_preheader\n"
     ]
    },
    {
     "name": "stdout",
     "output_type": "stream",
     "text": [
      "Compiler Error：./testcases/performance/large_loop_array_1.sy\n"
     ]
    },
    {
     "name": "stderr",
     "output_type": "stream",
     "text": [
      "Find a Parallelable Loop: .169wloop.63.66\n",
      "Find a Parallelable Loop: .235wloop.85.88\n"
     ]
    },
    {
     "name": "stdout",
     "output_type": "stream",
     "text": [
      "No TOTAL time found in stderr_output.\n",
      "Wrong Answer\n",
      "./testcases/performance/matmul2.sy\n",
      "Wrong Answer\n",
      "./testcases/performance/fft2.sy\n"
     ]
    },
    {
     "name": "stderr",
     "output_type": "stream",
     "text": [
      "Find a Parallelable Loop: .244wloop.78.81\n",
      "Find a Parallelable Loop: .433_preheader\n",
      "Find a Parallelable Loop: .424_preheader\n",
      "Find a Parallelable Loop: .429_preheader\n",
      "Find a Parallelable Loop: .431_preheader\n"
     ]
    },
    {
     "name": "stdout",
     "output_type": "stream",
     "text": [
      "No TOTAL time found in stderr_output.\n",
      "Wrong Answer\n",
      "./testcases/performance/01_mm1.sy\n",
      "Wrong Answer\n",
      "./testcases/performance/fft1.sy\n"
     ]
    },
    {
     "name": "stderr",
     "output_type": "stream",
     "text": [
      "Find a Parallelable Loop: .628_preheader\n",
      "Find a Parallelable Loop: .624_preheader\n",
      "Find a Parallelable Loop: .445\n",
      "SYSY-compiler: /home/lyh_irie/miniC-compiler/backend/RISCVISel.cpp:72: virtual bool RISCVISel::run(Function*): Assertion `terminator.trueblock==succ||terminator.falseblock==succ' failed.\n",
      "Find a Parallelable Loop: .1092\n",
      "Find a Parallelable Loop: .1308\n"
     ]
    },
    {
     "name": "stdout",
     "output_type": "stream",
     "text": [
      "Compiler Error：./testcases/performance/gameoflife-gosper.sy\n",
      "No TOTAL time found in stderr_output.\n",
      "Wrong Answer\n",
      "./testcases/performance/if-combine1.sy\n"
     ]
    },
    {
     "name": "stderr",
     "output_type": "stream",
     "text": [
      "Find a Parallelable Loop: .356wloop.95.98\n"
     ]
    },
    {
     "name": "stdout",
     "output_type": "stream",
     "text": [
      "No TOTAL time found in stderr_output.\n",
      "Wrong Answer\n",
      "./testcases/performance/03_sort1.sy\n"
     ]
    },
    {
     "name": "stderr",
     "output_type": "stream",
     "text": [
      "Find a Parallelable Loop: .300_preheader\n",
      "Find a Parallelable Loop: .298_preheader\n",
      "Find a Parallelable Loop: .169wloop.63.66\n",
      "Find a Parallelable Loop: .235wloop.85.88\n"
     ]
    },
    {
     "name": "stdout",
     "output_type": "stream",
     "text": [
      "No TOTAL time found in stderr_output.\n",
      "Wrong Answer\n",
      "./testcases/performance/matmul3.sy\n"
     ]
    },
    {
     "name": "stderr",
     "output_type": "stream",
     "text": [
      "Find a Parallelable Loop: .186\n",
      "Find a Parallelable Loop: .98wloop.31.35\n",
      "SYSY-compiler: /home/lyh_irie/miniC-compiler/backend/RISCVMIR.cpp:209: void RISCVBasicBlock::replace_succ(RISCVBasicBlock*, RISCVBasicBlock*): Assertion `0&&\"IMPOSSIBLE\"' failed.\n",
      "Find a Parallelable Loop: .206_preheader\n"
     ]
    },
    {
     "name": "stdout",
     "output_type": "stream",
     "text": [
      "Compiler Error：./testcases/performance/large_loop_array_2.sy\n",
      "Wrong Answer\n",
      "./testcases/performance/sl2.sy\n"
     ]
    },
    {
     "name": "stderr",
     "output_type": "stream",
     "text": [
      "Find a Parallelable Loop: .153wloop.42.45\n",
      "Find a Parallelable Loop: .115wloop.30.33\n"
     ]
    },
    {
     "name": "stdout",
     "output_type": "stream",
     "text": [
      "No TOTAL time found in stderr_output.\n",
      "Wrong Answer\n",
      "./testcases/performance/transpose2.sy\n"
     ]
    },
    {
     "name": "stderr",
     "output_type": "stream",
     "text": [
      "Find a Parallelable Loop: .628_preheader\n",
      "Find a Parallelable Loop: .624_preheader\n",
      "Find a Parallelable Loop: .445\n",
      "SYSY-compiler: /home/lyh_irie/miniC-compiler/backend/RISCVISel.cpp:72: virtual bool RISCVISel::run(Function*): Assertion `terminator.trueblock==succ||terminator.falseblock==succ' failed.\n",
      "Find a Parallelable Loop: .1092\n",
      "Find a Parallelable Loop: .1308\n"
     ]
    },
    {
     "name": "stdout",
     "output_type": "stream",
     "text": [
      "Compiler Error：./testcases/performance/gameoflife-oscillator.sy\n",
      "No TOTAL time found in stderr_output.\n",
      "Wrong Answer\n",
      "./testcases/performance/if-combine2.sy\n"
     ]
    },
    {
     "name": "stderr",
     "output_type": "stream",
     "text": [
      "Find a Parallelable Loop: .153wloop.42.45\n",
      "Find a Parallelable Loop: .115wloop.30.33\n"
     ]
    },
    {
     "name": "stdout",
     "output_type": "stream",
     "text": [
      "No TOTAL time found in stderr_output.\n",
      "Wrong Answer\n",
      "./testcases/performance/transpose1.sy\n"
     ]
    },
    {
     "name": "stderr",
     "output_type": "stream",
     "text": [
      "Find a Parallelable Loop: .244wloop.78.81\n",
      "Find a Parallelable Loop: .433_preheader\n",
      "Find a Parallelable Loop: .424_preheader\n",
      "Find a Parallelable Loop: .429_preheader\n",
      "Find a Parallelable Loop: .431_preheader\n"
     ]
    },
    {
     "name": "stdout",
     "output_type": "stream",
     "text": [
      "No TOTAL time found in stderr_output.\n",
      "Wrong Answer\n",
      "./testcases/performance/01_mm3.sy\n"
     ]
    },
    {
     "name": "stderr",
     "output_type": "stream",
     "text": [
      "Find a Parallelable Loop: .235\n",
      "Find a Parallelable Loop: .296\n",
      "Find a Parallelable Loop: .283\n",
      "Find a Parallelable Loop: .222\n"
     ]
    },
    {
     "name": "stdout",
     "output_type": "stream",
     "text": [
      "No TOTAL time found in stderr_output.\n",
      "Wrong Answer\n",
      "./testcases/performance/04_spmv2.sy\n"
     ]
    },
    {
     "name": "stderr",
     "output_type": "stream",
     "text": [
      "Find a Parallelable Loop: .356wloop.95.98\n"
     ]
    },
    {
     "name": "stdout",
     "output_type": "stream",
     "text": [
      "No TOTAL time found in stderr_output.\n",
      "Wrong Answer\n",
      "./testcases/performance/03_sort3.sy\n",
      "Wrong Answer\n",
      "./testcases/h_functional/11_BST.sy\n"
     ]
    },
    {
     "name": "stderr",
     "output_type": "stream",
     "text": [
      "Find a Parallelable Loop: .374_preheader\n"
     ]
    },
    {
     "name": "stdout",
     "output_type": "stream",
     "text": [
      "Wrong Answer\n",
      "./testcases/h_functional/19_search.sy\n"
     ]
    },
    {
     "name": "stderr",
     "output_type": "stream",
     "text": [
      "SYSY-compiler: /home/lyh_irie/miniC-compiler/backend/RISCVMIR.cpp:209: void RISCVBasicBlock::replace_succ(RISCVBasicBlock*, RISCVBasicBlock*): Assertion `0&&\"IMPOSSIBLE\"' failed.\n"
     ]
    },
    {
     "name": "stdout",
     "output_type": "stream",
     "text": [
      "Compiler Error：./testcases/h_functional/36_rotate.sy\n"
     ]
    },
    {
     "name": "stderr",
     "output_type": "stream",
     "text": [
      "Find a Parallelable Loop: .263_preheader\n"
     ]
    },
    {
     "name": "stdout",
     "output_type": "stream",
     "text": [
      "No TOTAL time found in stderr_output.\n",
      "Wrong Answer\n",
      "./testcases/h_functional/22_matrix_multiply.sy\n"
     ]
    },
    {
     "name": "stderr",
     "output_type": "stream",
     "text": [
      "SYSY-compiler: /home/lyh_irie/miniC-compiler/backend/RISCVISel.cpp:72: virtual bool RISCVISel::run(Function*): Assertion `terminator.trueblock==succ||terminator.falseblock==succ' failed.\n"
     ]
    },
    {
     "ename": "KeyboardInterrupt",
     "evalue": "",
     "output_type": "error",
     "traceback": [
      "\u001b[0;31m---------------------------------------------------------------------------\u001b[0m",
      "\u001b[0;31mKeyboardInterrupt\u001b[0m                         Traceback (most recent call last)",
      "Cell \u001b[0;32mIn[1], line 52\u001b[0m\n\u001b[1;32m     50\u001b[0m     compile_args\u001b[38;5;241m.\u001b[39mappend(arg)\n\u001b[1;32m     51\u001b[0m \u001b[38;5;28;01mtry\u001b[39;00m:\n\u001b[0;32m---> 52\u001b[0m     ret \u001b[38;5;241m=\u001b[39m \u001b[43msubprocess\u001b[49m\u001b[38;5;241;43m.\u001b[39;49m\u001b[43mrun\u001b[49m\u001b[43m(\u001b[49m\u001b[43mcompile_args\u001b[49m\u001b[43m,\u001b[49m\u001b[43mtimeout\u001b[49m\u001b[38;5;241;43m=\u001b[39;49m\u001b[38;5;241;43m60\u001b[39;49m\u001b[43m)\u001b[49m\n\u001b[1;32m     53\u001b[0m \u001b[38;5;28;01mexcept\u001b[39;00m subprocess\u001b[38;5;241m.\u001b[39mTimeoutExpired:\n\u001b[1;32m     54\u001b[0m     Time_Out\u001b[38;5;241m.\u001b[39mappend(test)\n",
      "File \u001b[0;32m/mnt/e/miniconda/lib/python3.11/subprocess.py:550\u001b[0m, in \u001b[0;36mrun\u001b[0;34m(input, capture_output, timeout, check, *popenargs, **kwargs)\u001b[0m\n\u001b[1;32m    548\u001b[0m \u001b[38;5;28;01mwith\u001b[39;00m Popen(\u001b[38;5;241m*\u001b[39mpopenargs, \u001b[38;5;241m*\u001b[39m\u001b[38;5;241m*\u001b[39mkwargs) \u001b[38;5;28;01mas\u001b[39;00m process:\n\u001b[1;32m    549\u001b[0m     \u001b[38;5;28;01mtry\u001b[39;00m:\n\u001b[0;32m--> 550\u001b[0m         stdout, stderr \u001b[38;5;241m=\u001b[39m \u001b[43mprocess\u001b[49m\u001b[38;5;241;43m.\u001b[39;49m\u001b[43mcommunicate\u001b[49m\u001b[43m(\u001b[49m\u001b[38;5;28;43minput\u001b[39;49m\u001b[43m,\u001b[49m\u001b[43m \u001b[49m\u001b[43mtimeout\u001b[49m\u001b[38;5;241;43m=\u001b[39;49m\u001b[43mtimeout\u001b[49m\u001b[43m)\u001b[49m\n\u001b[1;32m    551\u001b[0m     \u001b[38;5;28;01mexcept\u001b[39;00m TimeoutExpired \u001b[38;5;28;01mas\u001b[39;00m exc:\n\u001b[1;32m    552\u001b[0m         process\u001b[38;5;241m.\u001b[39mkill()\n",
      "File \u001b[0;32m/mnt/e/miniconda/lib/python3.11/subprocess.py:1209\u001b[0m, in \u001b[0;36mPopen.communicate\u001b[0;34m(self, input, timeout)\u001b[0m\n\u001b[1;32m   1206\u001b[0m     endtime \u001b[38;5;241m=\u001b[39m \u001b[38;5;28;01mNone\u001b[39;00m\n\u001b[1;32m   1208\u001b[0m \u001b[38;5;28;01mtry\u001b[39;00m:\n\u001b[0;32m-> 1209\u001b[0m     stdout, stderr \u001b[38;5;241m=\u001b[39m \u001b[38;5;28;43mself\u001b[39;49m\u001b[38;5;241;43m.\u001b[39;49m\u001b[43m_communicate\u001b[49m\u001b[43m(\u001b[49m\u001b[38;5;28;43minput\u001b[39;49m\u001b[43m,\u001b[49m\u001b[43m \u001b[49m\u001b[43mendtime\u001b[49m\u001b[43m,\u001b[49m\u001b[43m \u001b[49m\u001b[43mtimeout\u001b[49m\u001b[43m)\u001b[49m\n\u001b[1;32m   1210\u001b[0m \u001b[38;5;28;01mexcept\u001b[39;00m \u001b[38;5;167;01mKeyboardInterrupt\u001b[39;00m:\n\u001b[1;32m   1211\u001b[0m     \u001b[38;5;66;03m# https://bugs.python.org/issue25942\u001b[39;00m\n\u001b[1;32m   1212\u001b[0m     \u001b[38;5;66;03m# See the detailed comment in .wait().\u001b[39;00m\n\u001b[1;32m   1213\u001b[0m     \u001b[38;5;28;01mif\u001b[39;00m timeout \u001b[38;5;129;01mis\u001b[39;00m \u001b[38;5;129;01mnot\u001b[39;00m \u001b[38;5;28;01mNone\u001b[39;00m:\n",
      "File \u001b[0;32m/mnt/e/miniconda/lib/python3.11/subprocess.py:2134\u001b[0m, in \u001b[0;36mPopen._communicate\u001b[0;34m(self, input, endtime, orig_timeout)\u001b[0m\n\u001b[1;32m   2131\u001b[0m                     key\u001b[38;5;241m.\u001b[39mfileobj\u001b[38;5;241m.\u001b[39mclose()\n\u001b[1;32m   2132\u001b[0m                 \u001b[38;5;28mself\u001b[39m\u001b[38;5;241m.\u001b[39m_fileobj2output[key\u001b[38;5;241m.\u001b[39mfileobj]\u001b[38;5;241m.\u001b[39mappend(data)\n\u001b[0;32m-> 2134\u001b[0m \u001b[38;5;28;43mself\u001b[39;49m\u001b[38;5;241;43m.\u001b[39;49m\u001b[43mwait\u001b[49m\u001b[43m(\u001b[49m\u001b[43mtimeout\u001b[49m\u001b[38;5;241;43m=\u001b[39;49m\u001b[38;5;28;43mself\u001b[39;49m\u001b[38;5;241;43m.\u001b[39;49m\u001b[43m_remaining_time\u001b[49m\u001b[43m(\u001b[49m\u001b[43mendtime\u001b[49m\u001b[43m)\u001b[49m\u001b[43m)\u001b[49m\n\u001b[1;32m   2136\u001b[0m \u001b[38;5;66;03m# All data exchanged.  Translate lists into strings.\u001b[39;00m\n\u001b[1;32m   2137\u001b[0m \u001b[38;5;28;01mif\u001b[39;00m stdout \u001b[38;5;129;01mis\u001b[39;00m \u001b[38;5;129;01mnot\u001b[39;00m \u001b[38;5;28;01mNone\u001b[39;00m:\n",
      "File \u001b[0;32m/mnt/e/miniconda/lib/python3.11/subprocess.py:1264\u001b[0m, in \u001b[0;36mPopen.wait\u001b[0;34m(self, timeout)\u001b[0m\n\u001b[1;32m   1262\u001b[0m     endtime \u001b[38;5;241m=\u001b[39m _time() \u001b[38;5;241m+\u001b[39m timeout\n\u001b[1;32m   1263\u001b[0m \u001b[38;5;28;01mtry\u001b[39;00m:\n\u001b[0;32m-> 1264\u001b[0m     \u001b[38;5;28;01mreturn\u001b[39;00m \u001b[38;5;28;43mself\u001b[39;49m\u001b[38;5;241;43m.\u001b[39;49m\u001b[43m_wait\u001b[49m\u001b[43m(\u001b[49m\u001b[43mtimeout\u001b[49m\u001b[38;5;241;43m=\u001b[39;49m\u001b[43mtimeout\u001b[49m\u001b[43m)\u001b[49m\n\u001b[1;32m   1265\u001b[0m \u001b[38;5;28;01mexcept\u001b[39;00m \u001b[38;5;167;01mKeyboardInterrupt\u001b[39;00m:\n\u001b[1;32m   1266\u001b[0m     \u001b[38;5;66;03m# https://bugs.python.org/issue25942\u001b[39;00m\n\u001b[1;32m   1267\u001b[0m     \u001b[38;5;66;03m# The first keyboard interrupt waits briefly for the child to\u001b[39;00m\n\u001b[1;32m   1268\u001b[0m     \u001b[38;5;66;03m# exit under the common assumption that it also received the ^C\u001b[39;00m\n\u001b[1;32m   1269\u001b[0m     \u001b[38;5;66;03m# generated SIGINT and will exit rapidly.\u001b[39;00m\n\u001b[1;32m   1270\u001b[0m     \u001b[38;5;28;01mif\u001b[39;00m timeout \u001b[38;5;129;01mis\u001b[39;00m \u001b[38;5;129;01mnot\u001b[39;00m \u001b[38;5;28;01mNone\u001b[39;00m:\n",
      "File \u001b[0;32m/mnt/e/miniconda/lib/python3.11/subprocess.py:2040\u001b[0m, in \u001b[0;36mPopen._wait\u001b[0;34m(self, timeout)\u001b[0m\n\u001b[1;32m   2038\u001b[0m             \u001b[38;5;28;01mraise\u001b[39;00m TimeoutExpired(\u001b[38;5;28mself\u001b[39m\u001b[38;5;241m.\u001b[39margs, timeout)\n\u001b[1;32m   2039\u001b[0m         delay \u001b[38;5;241m=\u001b[39m \u001b[38;5;28mmin\u001b[39m(delay \u001b[38;5;241m*\u001b[39m \u001b[38;5;241m2\u001b[39m, remaining, \u001b[38;5;241m.05\u001b[39m)\n\u001b[0;32m-> 2040\u001b[0m         time\u001b[38;5;241m.\u001b[39msleep(delay)\n\u001b[1;32m   2041\u001b[0m \u001b[38;5;28;01melse\u001b[39;00m:\n\u001b[1;32m   2042\u001b[0m     \u001b[38;5;28;01mwhile\u001b[39;00m \u001b[38;5;28mself\u001b[39m\u001b[38;5;241m.\u001b[39mreturncode \u001b[38;5;129;01mis\u001b[39;00m \u001b[38;5;28;01mNone\u001b[39;00m:\n",
      "\u001b[0;31mKeyboardInterrupt\u001b[0m: "
     ]
    }
   ],
   "source": [
    "# Now I want write a test script to test all testcases in testcases folder\n",
    "# The testcases in such format\n",
    "# <name>.sy source code\n",
    "# <name>.in input\n",
    "# <name>.out std output\n",
    "\n",
    "# compiler path: ./build/SYSY-compiler\n",
    "# compiler command: ./build/SYSY-compiler <name>.sy\n",
    "# I need you to run the compiler and get the output llvm ir code, which will be put in <name>.ll \n",
    "# If the compiler doesn't end with 0, keep a record of the trouble file name in CE_list\n",
    "# If the compiler ends with 0, run the llvm ir code with lli and get the output, which will be put in <name>.outq\n",
    "# Compare it with the std output <name>.out ,if is't not that same ,keep a record of the trouble file name in WA_list\n",
    "# Remember to redirect the input and output of lli\n",
    "\n",
    "import os\n",
    "import sys\n",
    "import subprocess\n",
    "import filecmp\n",
    "import time\n",
    "import difflib\n",
    "import re\n",
    "\n",
    "compiler_path = \"./build/SYSY-compiler\"\n",
    "test_folder=\"./testcases\"\n",
    "pass_args=[\"--O1\"]\n",
    "\n",
    "# grab all the testcases\n",
    "\n",
    "# find files recursively\n",
    "test_list = []\n",
    "for root, dirs, files in os.walk(test_folder):\n",
    "    for file in files:\n",
    "        if file.endswith(\".sy\"):\n",
    "            test_list.append(os.path.join(root, file))\n",
    "\n",
    "CE_list = []\n",
    "LLI_FAIL_list = []\n",
    "WA_list = []\n",
    "AC_list = []\n",
    "TLE_list = []\n",
    "Time_Out = []\n",
    "total_time=0\n",
    "Bad_test = []\n",
    "\n",
    "for test in test_list:\n",
    "    if test.endswith(\".sy\"):\n",
    "        # add test_args to list\n",
    "        compile_args=[compiler_path, test]\n",
    "        for arg in pass_args:\n",
    "            compile_args.append(arg)\n",
    "        try:\n",
    "            ret = subprocess.run(compile_args,timeout=60)\n",
    "        except subprocess.TimeoutExpired:\n",
    "            Time_Out.append(test)\n",
    "            continue\n",
    "        if ret.returncode != 0:\n",
    "            CE_list.append(test)\n",
    "            print(\"Compiler Error：\"+test)\n",
    "            continue\n",
    "        # run lli\n",
    "        ll_file = test+\".ll\"\n",
    "        out_file = test[:-2]+\"out\"\n",
    "        # riscv file\n",
    "        # asm_file = test + \"..s\"\n",
    "        # maybe theres no input file\n",
    "        \n",
    "        if not os.path.exists(test[:-2]+\"in\") and not os.path.exists(out_file):\n",
    "            Bad_test.append(test)\n",
    "            continue\n",
    "        \n",
    "        # Kill program run over 5s, give it a TLE\n",
    "        try:\n",
    "            if not os.path.exists(test[:-2]+\"in\"):\n",
    "                ret = subprocess.run([\"lli-14\",\"-opaque-pointers\",ll_file], stdout=subprocess.PIPE, stderr=subprocess.PIPE, timeout=10)\n",
    "                # ret1 = subprocess.run([\"riscv64-unknown-elf-as\",\"-o\",\"output.o\",asm_file], stdout=subprocess.PIPE, stderr=subprocess.PIPE, timeout=10)\n",
    "            else:\n",
    "                ret = subprocess.run([\"lli-14\",\"-opaque-pointers\",ll_file], stdout=subprocess.PIPE, stderr=subprocess.PIPE, input=open(test[:-2]+\"in\").read().encode(), timeout=10)\n",
    "                # ret1 = subprocess.run([\"riscv64-unknown-elf-as\",\"-o\",\"output.o\",asm_file], stdout=subprocess.PIPE, stderr=subprocess.PIPE, timeout=10)\n",
    "        except subprocess.TimeoutExpired:\n",
    "            print(\"Timeout Error\")\n",
    "            TLE_list.append(test)\n",
    "            print(test)\n",
    "            total_time+=15\n",
    "            continue\n",
    "        #timer set\n",
    "        try:\n",
    "            if not os.path.exists(test[:-2] + \"in\"):\n",
    "                ret = subprocess.run([\"time\", \"lli-14\", \"-opaque-pointers\", ll_file], stdout=subprocess.PIPE, stderr=subprocess.PIPE, timeout=10)\n",
    "            else:\n",
    "                with open(test[:-2] + \"in\") as input_file:\n",
    "                    input_data = input_file.read().encode()\n",
    "                    ret = subprocess.run([\"time\", \"lli-14\", \"-opaque-pointers\", ll_file], stdout=subprocess.PIPE, stderr=subprocess.PIPE, input=input_data, timeout=10)\n",
    "        \n",
    "            stderr_output = ret.stderr.decode()    \n",
    "            match = re.search(r'TOTAL: (\\d+)H-(\\d+)M-(\\d+)S-(\\d+)us', stderr_output)\n",
    "            if match:\n",
    "                hours, minutes, seconds, microseconds = map(int, match.groups())\n",
    "                # 将时间转换为秒\n",
    "                total_seconds = hours * 3600 + minutes * 60 + seconds + microseconds / 1e6\n",
    "                # 假设total_time已经定义，并且是以秒为单位的\n",
    "                total_time += total_seconds\n",
    "            else:\n",
    "                print(\"No TOTAL time found in stderr_output.\")\n",
    "        except subprocess.TimeoutExpired:\n",
    "            continue\n",
    "        # compare the output\n",
    "        # Merge The reture Value and stdout\n",
    "        \n",
    "        dump_str=ret.stdout.decode()\n",
    "        # dump_str1 = ret1.stdout.decode()\n",
    "        # remove whitesspace in the end\n",
    "        # dump_str=dump_str.rstrip()\n",
    "        # if dump_str1 and not dump_str1.endswith('\\n'):\n",
    "        #     dump_str1 += \"\\n\"\n",
    "        # if not dump_str1.endswith(''):\n",
    "        #     print(\"RISCV Test Error\")\n",
    "        if dump_str and not dump_str.endswith('\\n'):\n",
    "            dump_str += \"\\n\"\n",
    "        dump_str += str(ret.returncode) + \"\\n\"\n",
    "        std_output=open(out_file).read()\n",
    "        diff = difflib.unified_diff(dump_str.splitlines(), std_output.splitlines(), lineterm='')\n",
    "        if(len(list(diff))!=0):\n",
    "            print(\"Wrong Answer\")\n",
    "            WA_list.append(test)\n",
    "            print(test)\n",
    "            continue\n",
    "        # print(\"Accepted\")\n",
    "        AC_list.append(test)\n",
    "    \n",
    "        \n",
    "print(\"Compiler Error: Total: \"+str(len(CE_list)))\n",
    "print(\"Runtime Error: Total: \"+str(len(LLI_FAIL_list)))\n",
    "print(\"Timeout Error: Total: \"+str(len(TLE_list)))\n",
    "print(\"Wrong Answer: Total: \"+str(len(WA_list)))\n",
    "print(\"TimeOut Function:\"+str(len(Time_Out)))\n",
    "print(\"Bad Test: Total: \"+str(len(Bad_test)))\n",
    "print(\"Accepted: Total: \"+str(len(AC_list)))\n",
    "print(\"TOTAL TIME:\"+str(total_time))"
   ]
  },
  {
   "cell_type": "code",
   "execution_count": null,
   "metadata": {},
   "outputs": [],
   "source": [
    "import os\n",
    "import sys\n",
    "import subprocess\n",
    "import filecmp\n",
    "import difflib\n",
    "\n",
    "test_folder=\"./testcase\"\n",
    "\n",
    "# grab all the testcases\n",
    "\n",
    "# find files recursively\n",
    "test_list = []\n",
    "for root, dirs, files in os.walk(test_folder):\n",
    "    for file in files:\n",
    "        if file.endswith(\".s\"):\n",
    "            test_list.append(os.path.join(root, file))\n",
    "\n",
    "CE_list = []\n",
    "AC_list = []\n",
    "\n",
    "for test in test_list:\n",
    "    if test.endswith(\".s\"):\n",
    "        # add test_args to list\n",
    "        compile_args=[\"riscv64-unknown-elf-as\", test, \"-o\", \"a.out\"]\n",
    "        try:\n",
    "            ret = subprocess.run(compile_args,timeout=60)\n",
    "        except subprocess.TimeoutExpired:\n",
    "            Time_Out.append(test)\n",
    "            continue\n",
    "        if ret.returncode != 0:\n",
    "            CE_list.append(test)\n",
    "            print(\"Compiler Error：\"+test)\n",
    "            continue\n",
    "        AC_list.append(test)\n",
    "    \n",
    "        \n",
    "print(\"Compiler Error: Total: \"+str(len(CE_list)))\n",
    "print(\"Accepted: Total: \"+str(len(AC_list)))"
   ]
  },
  {
   "cell_type": "code",
   "execution_count": null,
   "metadata": {},
   "outputs": [],
   "source": []
  },
  {
   "cell_type": "code",
   "execution_count": 2,
   "metadata": {},
   "outputs": [
    {
     "name": "stdout",
     "output_type": "stream",
     "text": [
      "./testcases/functional/61_sort_test7.sy\n",
      "./testcases/functional/62_percolation.sy\n",
      "./testcases/functional/63_big_int_mul.sy\n",
      "./testcases/hidden_functional/04_break_continue.sy\n",
      "./testcases/hidden_functional/23_json.sy\n"
     ]
    }
   ],
   "source": [
    "for k in range(len(WA_list)):\n",
    "    if len(WA_list) > k:\n",
    "        print(WA_list[k])"
   ]
  },
  {
   "cell_type": "code",
   "execution_count": null,
   "metadata": {},
   "outputs": [],
   "source": [
    "import os\n",
    "import sys\n",
    "import subprocess\n",
    "import filecmp\n",
    "import difflib\n",
    "\n",
    "test_folder=\"./testcases\"\n",
    "\n",
    "# grab all the testcases\n",
    "\n",
    "# find files recursively\n",
    "test_list = []\n",
    "for root, dirs, files in os.walk(test_folder):\n",
    "    for file in files:\n",
    "        if file.endswith(\".s\"):\n",
    "            test_list.append(os.path.join(root, file))\n",
    "\n",
    "CE_list = []\n",
    "AC_list = []\n",
    "\n",
    "for test in test_list:\n",
    "    if test.endswith(\".s\"):\n",
    "            os.remove(test)"
   ]
  },
  {
   "cell_type": "code",
   "execution_count": 34,
   "metadata": {},
   "outputs": [
    {
     "name": "stdout",
     "output_type": "stream",
     "text": [
      "./testcases/final_performance/03_sort1.sy\n",
      "./testcases/final_performance/03_sort2.sy\n",
      "./testcases/final_performance/03_sort3.sy\n",
      "./testcases/functional/64_calculator.sy\n",
      "./testcases/hidden_functional/23_json.sy\n",
      "./testcases/performance/03_sort1.sy\n",
      "./testcases/performance/03_sort2.sy\n",
      "./testcases/performance/03_sort3.sy\n"
     ]
    }
   ],
   "source": [
    "for k in range(len(WA_list)):\n",
    "    if len(WA_list) > k:\n",
    "        print(WA_list[k])"
   ]
  },
  {
   "cell_type": "code",
   "execution_count": 6,
   "metadata": {},
   "outputs": [
    {
     "name": "stdout",
     "output_type": "stream",
     "text": [
      "./testcases/functional/32_while_if_test2.sy\n",
      "./testcases/functional/51_short_circuit3.sy\n",
      "./testcases/functional/82_long_func.sy\n",
      "./testcases/functional/85_long_code.sy\n"
     ]
    }
   ],
   "source": [
    "for k in range(len(CE_list)):\n",
    "    if len(CE_list) > k:\n",
    "        print(CE_list[k])"
   ]
  },
  {
   "cell_type": "code",
   "execution_count": null,
   "metadata": {},
   "outputs": [],
   "source": [
    "for k in range(len(TLE_list)):\n",
    "    if len(TLE_list) > k:\n",
    "        print(TLE_list[k])"
   ]
  },
  {
   "cell_type": "code",
   "execution_count": null,
   "metadata": {},
   "outputs": [],
   "source": [
    "import os\n",
    "import shutil\n",
    "\n",
    "current_dir = os.getcwd()\n",
    "target_folder=os.path.join(current_dir,\"include\")\n",
    "# 遍历当前目录下的所有文件和文件夹\n",
    "for root, dirs, files in os.walk(current_dir):\n",
    "    if root=='/mnt/e/miniC-compiler/ir/opt':\n",
    "        os.makedirs(os.path.join(target_folder,\"ir/opt\"),exist_ok=True)\n",
    "        for file in files:\n",
    "            if file.endswith(\".hpp\"):\n",
    "                if not os.path.exists(os.path.join(target_folder,\"ir/opt\")+file):\n",
    "                    path=os.path.join(root,file)\n",
    "                    shutil.move(path,os.path.join(target_folder,\"ir/opt\"))\n",
    "    if root=='/mnt/e/miniC-compiler/backend':\n",
    "        os.makedirs(os.path.join(target_folder,\"backend\"),exist_ok=True)\n",
    "        for file in files:\n",
    "            if file.endswith(\".hpp\"):\n",
    "                if not os.path.exists(os.path.join(target_folder,\"backend\")+file):\n",
    "                    path=os.path.join(root,file)\n",
    "                    shutil.move(path,os.path.join(target_folder,\"backend\"))\n",
    "    if root=='/mnt/e/miniC-compiler/ir/Analysis':\n",
    "        os.makedirs(os.path.join(target_folder,\"ir/Analysis\"),exist_ok=True)\n",
    "        for file in files:\n",
    "            if file.endswith(\".hpp\"):\n",
    "                if not os.path.exists(os.path.join(target_folder,\"ir/Analysis\")+file):\n",
    "                    path=os.path.join(root,file)\n",
    "                    shutil.move(path,os.path.join(target_folder,\"ir/Analysis\"))\n",
    "    if root=='/mnt/e/miniC-compiler/yacc': \n",
    "        os.makedirs(os.path.join(target_folder,\"yacc\"),exist_ok=True)\n",
    "        for file in files:\n",
    "            if file.endswith(\".hpp\") or file.endswith(\".hh\"):\n",
    "                if not os.path.exists(os.path.join(target_folder,\"yacc\")+file):\n",
    "                    path=os.path.join(root,file)\n",
    "                    shutil.move(path,os.path.join(target_folder,\"yacc\"))\n",
    "    if root=='/mnt/e/miniC-compiler/lib':\n",
    "        os.makedirs(os.path.join(target_folder,\"lib\"),exist_ok=True)\n",
    "        for file in files:\n",
    "            if file.endswith(\".hpp\"):\n",
    "                if not os.path.exists(os.path.join(target_folder,\"lib\")+file):\n",
    "                    path=os.path.join(root,file)\n",
    "                    shutil.move(path,os.path.join(target_folder,\"lib\"))\n"
   ]
  }
 ],
 "metadata": {
  "kernelspec": {
   "display_name": "Python 3",
   "language": "python",
   "name": "python3"
  },
  "language_info": {
   "codemirror_mode": {
    "name": "ipython",
    "version": 3
   },
   "file_extension": ".py",
   "mimetype": "text/x-python",
   "name": "python",
   "nbconvert_exporter": "python",
   "pygments_lexer": "ipython3",
   "version": "3.11.5"
  }
 },
 "nbformat": 4,
 "nbformat_minor": 2
}
